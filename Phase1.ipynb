{
  "nbformat": 4,
  "nbformat_minor": 0,
  "metadata": {
    "colab": {
      "provenance": [],
      "include_colab_link": true
    },
    "kernelspec": {
      "name": "python3",
      "display_name": "Python 3"
    },
    "language_info": {
      "name": "python"
    }
  },
  "cells": [
    {
      "cell_type": "markdown",
      "metadata": {
        "id": "view-in-github",
        "colab_type": "text"
      },
      "source": [
        "<a href=\"https://colab.research.google.com/github/Janaalsh5/Heart-Disease/blob/main/Phase1.ipynb\" target=\"_parent\"><img src=\"https://colab.research.google.com/assets/colab-badge.svg\" alt=\"Open In Colab\"/></a>"
      ]
    },
    {
      "cell_type": "markdown",
      "source": [
        "\n",
        "\n",
        "```\n",
        "# This is formatted as code\n",
        "```\n",
        "\n",
        "# **Project Goal:**\n",
        "\n",
        "The primary objective of this project is to develop innovative predictive techniques that not only classify patients based on their risk of heart disease using multiple medical indicators but also employ clustering techniques to uncover distinct patient profiles. By integrating these approaches, the project aims to provide healthcare professionals with actionable insights that enhance early detection and personalized prevention strategies, ultimately contributing to improved cardiovascular health outcomes.\n",
        "\n",
        "# **Dataset Source:**\n",
        "\n",
        "The dataset was obtained from the UCI Machine Learning Repository:\n",
        "Heart Disease Dataset - UCI\n",
        "https://www.kaggle.com/datasets/fedesoriano/heart-failure-prediction?resource=download"
      ],
      "metadata": {
        "id": "aMCecH6zTMnI"
      }
    },
    {
      "cell_type": "markdown",
      "source": [
        "# **Dataset Description**"
      ],
      "metadata": {
        "id": "YiXYL9VDPQCb"
      }
    },
    {
      "cell_type": "code",
      "execution_count": 18,
      "metadata": {
        "id": "KP5MQmzzDiAd",
        "colab": {
          "base_uri": "https://localhost:8080/"
        },
        "outputId": "0679304e-ff4b-4b15-ae89-ffa079275f06"
      },
      "outputs": [
        {
          "output_type": "stream",
          "name": "stdout",
          "text": [
            "===  \u001b[1mDataset Description\u001b[0m ===\n"
          ]
        }
      ],
      "source": [
        "import pandas as pd\n",
        "from tabulate import tabulate\n",
        "\n",
        "# Load dataset\n",
        "df = pd.read_csv(\"/content/heart.csv\")\n",
        "\n"
      ]
    },
    {
      "cell_type": "markdown",
      "source": [
        "***Features:***"
      ],
      "metadata": {
        "id": "Vfv6AY7YPZVl"
      }
    },
    {
      "cell_type": "code",
      "source": [
        "\n",
        "print(df.info())"
      ],
      "metadata": {
        "colab": {
          "base_uri": "https://localhost:8080/"
        },
        "id": "dXBGCeLTOWeg",
        "outputId": "5e3f6638-95be-475b-cae1-a85303bec64b"
      },
      "execution_count": 19,
      "outputs": [
        {
          "output_type": "stream",
          "name": "stdout",
          "text": [
            "<class 'pandas.core.frame.DataFrame'>\n",
            "RangeIndex: 918 entries, 0 to 917\n",
            "Data columns (total 12 columns):\n",
            " #   Column          Non-Null Count  Dtype  \n",
            "---  ------          --------------  -----  \n",
            " 0   Age             918 non-null    int64  \n",
            " 1   Sex             918 non-null    object \n",
            " 2   ChestPainType   918 non-null    object \n",
            " 3   RestingBP       918 non-null    int64  \n",
            " 4   Cholesterol     918 non-null    int64  \n",
            " 5   FastingBS       918 non-null    int64  \n",
            " 6   RestingECG      918 non-null    object \n",
            " 7   MaxHR           918 non-null    int64  \n",
            " 8   ExerciseAngina  918 non-null    object \n",
            " 9   Oldpeak         918 non-null    float64\n",
            " 10  ST_Slope        918 non-null    object \n",
            " 11  HeartDisease    918 non-null    int64  \n",
            "dtypes: float64(1), int64(6), object(5)\n",
            "memory usage: 86.2+ KB\n",
            "None\n"
          ]
        }
      ]
    },
    {
      "cell_type": "markdown",
      "source": [
        "***Number of Objects:***"
      ],
      "metadata": {
        "id": "ruhydb6nPhsr"
      }
    },
    {
      "cell_type": "code",
      "source": [
        "\n",
        "print(f\"- Rows (instances): {df.shape[0]}\")\n",
        "print(f\"- Columns (features): {df.shape[1]}\")"
      ],
      "metadata": {
        "colab": {
          "base_uri": "https://localhost:8080/"
        },
        "id": "vWLghQIjO598",
        "outputId": "fbc25a73-5f17-48d8-80c5-a832d372c3df"
      },
      "execution_count": 13,
      "outputs": [
        {
          "output_type": "stream",
          "name": "stdout",
          "text": [
            "\n",
            "\u001b[1mNumber of Objects:\u001b[0m\n",
            "- Rows (instances): 918\n",
            "- Columns (features): 12\n"
          ]
        }
      ]
    },
    {
      "cell_type": "markdown",
      "source": [
        "***Class Distribution:***\n"
      ],
      "metadata": {
        "id": "PkRQ0uRcPrKW"
      }
    },
    {
      "cell_type": "code",
      "source": [
        "\n",
        "count_0 = df[df[\"HeartDisease\"] == 0].shape[0]\n",
        "count_1 = df[df[\"HeartDisease\"] == 1].shape[0]\n",
        "print(f\"- Patients with NO heart disease (0): {count_0}\")\n",
        "print(f\"- Patients WITH heart disease (1): {count_1}\")\n"
      ],
      "metadata": {
        "colab": {
          "base_uri": "https://localhost:8080/"
        },
        "id": "8Nkl7db7O9Ns",
        "outputId": "e6ea7a77-e216-41b5-bfb3-503966dc7870"
      },
      "execution_count": 14,
      "outputs": [
        {
          "output_type": "stream",
          "name": "stdout",
          "text": [
            "\n",
            "\u001b[1mClass Distribution:\u001b[0m\n",
            "- Patients with NO heart disease (0): 410\n",
            "- Patients WITH heart disease (1): 508\n"
          ]
        }
      ]
    },
    {
      "cell_type": "markdown",
      "source": [
        "***Dataset Sample***"
      ],
      "metadata": {
        "id": "sg0ebLYGP4kB"
      }
    },
    {
      "cell_type": "code",
      "source": [
        "\n",
        "\n",
        "print(tabulate(df.head(), headers=\"keys\", tablefmt=\"pretty\"))"
      ],
      "metadata": {
        "colab": {
          "base_uri": "https://localhost:8080/"
        },
        "id": "8UtyuQm6O_1t",
        "outputId": "dd4a0401-b0fa-4dac-f7a3-df623466bff9"
      },
      "execution_count": 24,
      "outputs": [
        {
          "output_type": "stream",
          "name": "stdout",
          "text": [
            "+---+-----+-----+---------------+-----------+-------------+-----------+------------+-------+----------------+---------+----------+--------------+\n",
            "|   | Age | Sex | ChestPainType | RestingBP | Cholesterol | FastingBS | RestingECG | MaxHR | ExerciseAngina | Oldpeak | ST_Slope | HeartDisease |\n",
            "+---+-----+-----+---------------+-----------+-------------+-----------+------------+-------+----------------+---------+----------+--------------+\n",
            "| 0 | 40  |  M  |      ATA      |    140    |     289     |     0     |   Normal   |  172  |       N        |   0.0   |    Up    |      0       |\n",
            "| 1 | 49  |  F  |      NAP      |    160    |     180     |     0     |   Normal   |  156  |       N        |   1.0   |   Flat   |      1       |\n",
            "| 2 | 37  |  M  |      ATA      |    130    |     283     |     0     |     ST     |  98   |       N        |   0.0   |    Up    |      0       |\n",
            "| 3 | 48  |  F  |      ASY      |    138    |     214     |     0     |   Normal   |  108  |       Y        |   1.5   |   Flat   |      1       |\n",
            "| 4 | 54  |  M  |      NAP      |    150    |     195     |     0     |   Normal   |  122  |       N        |   0.0   |    Up    |      0       |\n",
            "+---+-----+-----+---------------+-----------+-------------+-----------+------------+-------+----------------+---------+----------+--------------+\n"
          ]
        }
      ]
    }
  ]
}