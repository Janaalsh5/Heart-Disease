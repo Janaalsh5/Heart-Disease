{
  "nbformat": 4,
  "nbformat_minor": 0,
  "metadata": {
    "colab": {
      "provenance": [],
      "include_colab_link": true
    },
    "kernelspec": {
      "name": "python3",
      "display_name": "Python 3"
    },
    "language_info": {
      "name": "python"
    }
  },
  "cells": [
    {
      "cell_type": "markdown",
      "metadata": {
        "id": "view-in-github",
        "colab_type": "text"
      },
      "source": [
        "<a href=\"https://colab.research.google.com/github/Janaalsh5/Heart-Disease/blob/main/Phase1.ipynb\" target=\"_parent\"><img src=\"https://colab.research.google.com/assets/colab-badge.svg\" alt=\"Open In Colab\"/></a>"
      ]
    },
    {
      "cell_type": "markdown",
      "source": [
        "Project Goal:\n",
        "\n",
        "The primary objective of this project is to develop innovative predictive techniques that not only classify patients based on their risk of heart disease using multiple medical indicators but also employ clustering techniques to uncover distinct patient profiles. By integrating these approaches, the project aims to provide healthcare professionals with actionable insights that enhance early detection and personalized prevention strategies, ultimately contributing to improved cardiovascular health outcomes.\n",
        "Dataset Source:\n",
        "\n",
        "The dataset was obtained from the UCI Machine Learning Repository:\n",
        "Heart Disease Dataset - UCI\n",
        "# https://www.kaggle.com/datasets/fedesoriano/heart-failure-prediction?resource=download"
      ],
      "metadata": {
        "id": "aMCecH6zTMnI"
      }
    },
    {
      "cell_type": "code",
      "execution_count": 3,
      "metadata": {
        "id": "KP5MQmzzDiAd",
        "colab": {
          "base_uri": "https://localhost:8080/"
        },
        "outputId": "c5606872-8771-4cfa-d009-84add8344dfe"
      },
      "outputs": [
        {
          "output_type": "stream",
          "name": "stdout",
          "text": [
            "Dataset description:\n",
            "Features\n",
            "<class 'pandas.core.frame.DataFrame'>\n",
            "RangeIndex: 918 entries, 0 to 917\n",
            "Data columns (total 12 columns):\n",
            " #   Column          Non-Null Count  Dtype  \n",
            "---  ------          --------------  -----  \n",
            " 0   Age             918 non-null    int64  \n",
            " 1   Sex             918 non-null    object \n",
            " 2   ChestPainType   918 non-null    object \n",
            " 3   RestingBP       918 non-null    int64  \n",
            " 4   Cholesterol     918 non-null    int64  \n",
            " 5   FastingBS       918 non-null    int64  \n",
            " 6   RestingECG      918 non-null    object \n",
            " 7   MaxHR           918 non-null    int64  \n",
            " 8   ExerciseAngina  918 non-null    object \n",
            " 9   Oldpeak         918 non-null    float64\n",
            " 10  ST_Slope        918 non-null    object \n",
            " 11  HeartDisease    918 non-null    int64  \n",
            "dtypes: float64(1), int64(6), object(5)\n",
            "memory usage: 86.2+ KB\n",
            "None\n",
            "\n",
            " Number of objects \n",
            "Rows (instances): 918\n",
            "Columns (features): 12\n",
            "\n",
            " Class Distribution\n",
            "HeartDisease\n",
            "1    508\n",
            "0    410\n",
            "Name: count, dtype: int64\n",
            "\n",
            " Dataset Sample\n",
            "   Age Sex ChestPainType  RestingBP  Cholesterol  FastingBS RestingECG  MaxHR  \\\n",
            "0   40   M           ATA        140          289          0     Normal    172   \n",
            "1   49   F           NAP        160          180          0     Normal    156   \n",
            "2   37   M           ATA        130          283          0         ST     98   \n",
            "3   48   F           ASY        138          214          0     Normal    108   \n",
            "4   54   M           NAP        150          195          0     Normal    122   \n",
            "\n",
            "  ExerciseAngina  Oldpeak ST_Slope  HeartDisease  \n",
            "0              N      0.0       Up             0  \n",
            "1              N      1.0     Flat             1  \n",
            "2              N      0.0       Up             0  \n",
            "3              Y      1.5     Flat             1  \n",
            "4              N      0.0       Up             0  \n"
          ]
        }
      ],
      "source": [
        "import pandas as pd\n",
        "\n",
        "\n",
        "df = pd.read_csv(\"/content/heart.csv\")\n",
        "\n",
        "print(\"Dataset description:\")\n",
        "print(\"Features\")\n",
        "print(df.info())\n",
        "\n",
        "\n",
        "print(\"\\n Number of objects \")\n",
        "print(f\"Rows (instances): {df.shape[0]}\")\n",
        "print(f\"Columns (features): {df.shape[1]}\")\n",
        "\n",
        "\n",
        "print(\"\\n Class Distribution\")\n",
        "print(df['HeartDisease'].value_counts())\n",
        "\n",
        "\n",
        "print(\"\\n Dataset Sample\")\n",
        "print(df.head())\n"
      ]
    }
  ]
}