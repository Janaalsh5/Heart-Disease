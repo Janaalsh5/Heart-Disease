{
  "nbformat": 4,
  "nbformat_minor": 0,
  "metadata": {
    "colab": {
      "provenance": [],
      "include_colab_link": true
    },
    "kernelspec": {
      "name": "python3",
      "display_name": "Python 3"
    },
    "language_info": {
      "name": "python"
    }
  },
  "cells": [
    {
      "cell_type": "markdown",
      "metadata": {
        "id": "view-in-github",
        "colab_type": "text"
      },
      "source": [
        "<a href=\"https://colab.research.google.com/github/Janaalsh5/Heart-Disease/blob/main/Phase1.ipynb\" target=\"_parent\"><img src=\"https://colab.research.google.com/assets/colab-badge.svg\" alt=\"Open In Colab\"/></a>"
      ]
    },
    {
      "cell_type": "markdown",
      "source": [
        "\n",
        "\n",
        "```\n",
        "# This is formatted as code\n",
        "```\n",
        "\n",
        "# **Project Goal:**\n",
        "\n",
        "The primary objective of this project is to develop innovative predictive techniques that not only classify patients based on their risk of heart disease using multiple medical indicators but also employ clustering techniques to uncover distinct patient profiles. By integrating these approaches, the project aims to provide healthcare professionals with actionable insights that enhance early detection and personalized prevention strategies, ultimately contributing to improved cardiovascular health outcomes.\n",
        "\n",
        "# **Dataset Source:**\n",
        "\n",
        "The dataset was obtained from kaggle.com\n",
        "https://www.kaggle.com/datasets/fedesoriano/heart-failure-prediction?resource=download"
      ],
      "metadata": {
        "id": "aMCecH6zTMnI"
      }
    },
    {
      "cell_type": "markdown",
      "source": [
        "# **Dataset Description**"
      ],
      "metadata": {
        "id": "YiXYL9VDPQCb"
      }
    },
    {
      "cell_type": "code",
      "execution_count": 4,
      "metadata": {
        "id": "KP5MQmzzDiAd"
      },
      "outputs": [],
      "source": [
        "import pandas as pd\n",
        "from tabulate import tabulate\n",
        "df = pd.read_csv(\"/content/heart.csv\")"
      ]
    },
    {
      "cell_type": "markdown",
      "source": [
        "***Features:***\n",
        "Number and data types of attirbutes\n"
      ],
      "metadata": {
        "id": "Vfv6AY7YPZVl"
      }
    },
    {
      "cell_type": "code",
      "source": [
        "print(df.info())"
      ],
      "metadata": {
        "colab": {
          "base_uri": "https://localhost:8080/"
        },
        "id": "dXBGCeLTOWeg",
        "outputId": "5e3f6638-95be-475b-cae1-a85303bec64b"
      },
      "execution_count": null,
      "outputs": [
        {
          "output_type": "stream",
          "name": "stdout",
          "text": [
            "<class 'pandas.core.frame.DataFrame'>\n",
            "RangeIndex: 918 entries, 0 to 917\n",
            "Data columns (total 12 columns):\n",
            " #   Column          Non-Null Count  Dtype  \n",
            "---  ------          --------------  -----  \n",
            " 0   Age             918 non-null    int64  \n",
            " 1   Sex             918 non-null    object \n",
            " 2   ChestPainType   918 non-null    object \n",
            " 3   RestingBP       918 non-null    int64  \n",
            " 4   Cholesterol     918 non-null    int64  \n",
            " 5   FastingBS       918 non-null    int64  \n",
            " 6   RestingECG      918 non-null    object \n",
            " 7   MaxHR           918 non-null    int64  \n",
            " 8   ExerciseAngina  918 non-null    object \n",
            " 9   Oldpeak         918 non-null    float64\n",
            " 10  ST_Slope        918 non-null    object \n",
            " 11  HeartDisease    918 non-null    int64  \n",
            "dtypes: float64(1), int64(6), object(5)\n",
            "memory usage: 86.2+ KB\n",
            "None\n"
          ]
        }
      ]
    },
    {
      "cell_type": "markdown",
      "source": [
        "***Number of Objects:***\n"
      ],
      "metadata": {
        "id": "ruhydb6nPhsr"
      }
    },
    {
      "cell_type": "code",
      "source": [
        "print(f\"- Rows (instances): {df.shape[0]}\")\n",
        "print(f\"- Columns (features): {df.shape[1]}\")"
      ],
      "metadata": {
        "colab": {
          "base_uri": "https://localhost:8080/"
        },
        "id": "vWLghQIjO598",
        "outputId": "bff4a75f-dfb2-49e6-fe55-f55d069b4d8c"
      },
      "execution_count": null,
      "outputs": [
        {
          "output_type": "stream",
          "name": "stdout",
          "text": [
            "- Rows (instances): 918\n",
            "- Columns (features): 12\n"
          ]
        }
      ]
    },
    {
      "cell_type": "markdown",
      "source": [
        "***Class Distribution:***\n",
        "Class attribute with its values\n"
      ],
      "metadata": {
        "id": "PkRQ0uRcPrKW"
      }
    },
    {
      "cell_type": "code",
      "source": [
        "print(\"Target Column (class attribute): HeartDisease\")\n",
        "count_0 = df[df[\"HeartDisease\"] == 0].shape[0]\n",
        "count_1 = df[df[\"HeartDisease\"] == 1].shape[0]\n",
        "print(f\"- Patients with NO heart disease (0): {count_0}\")\n",
        "print(f\"- Patients WITH heart disease (1): {count_1}\")\n"
      ],
      "metadata": {
        "colab": {
          "base_uri": "https://localhost:8080/"
        },
        "id": "8Nkl7db7O9Ns",
        "outputId": "72caafd5-6429-4bc3-eec9-bd826566dd0a"
      },
      "execution_count": null,
      "outputs": [
        {
          "output_type": "stream",
          "name": "stdout",
          "text": [
            "Target Column (class attribute): HeartDisease\n",
            "- Patients with NO heart disease (0): 410\n",
            "- Patients WITH heart disease (1): 508\n"
          ]
        }
      ]
    },
    {
      "cell_type": "markdown",
      "source": [
        "***Dataset Sample***\n",
        "sample of the raw dataset."
      ],
      "metadata": {
        "id": "sg0ebLYGP4kB"
      }
    },
    {
      "cell_type": "code",
      "source": [
        "print(\"\\n*Dataset Sample:*\\n\")\n",
        "table = tabulate(df.head(), headers=\"keys\", tablefmt=\"github\")\n",
        "print(table)"
      ],
      "metadata": {
        "colab": {
          "base_uri": "https://localhost:8080/"
        },
        "id": "8UtyuQm6O_1t",
        "outputId": "3f042cff-f195-4865-a5fe-60ab5530fcee"
      },
      "execution_count": 6,
      "outputs": [
        {
          "output_type": "stream",
          "name": "stdout",
          "text": [
            "\n",
            "*Dataset Sample:*\n",
            "\n",
            "|    |   Age | Sex   | ChestPainType   |   RestingBP |   Cholesterol |   FastingBS | RestingECG   |   MaxHR | ExerciseAngina   |   Oldpeak | ST_Slope   |   HeartDisease |\n",
            "|----|-------|-------|-----------------|-------------|---------------|-------------|--------------|---------|------------------|-----------|------------|----------------|\n",
            "|  0 |    40 | M     | ATA             |         140 |           289 |           0 | Normal       |     172 | N                |       0   | Up         |              0 |\n",
            "|  1 |    49 | F     | NAP             |         160 |           180 |           0 | Normal       |     156 | N                |       1   | Flat       |              1 |\n",
            "|  2 |    37 | M     | ATA             |         130 |           283 |           0 | ST           |      98 | N                |       0   | Up         |              0 |\n",
            "|  3 |    48 | F     | ASY             |         138 |           214 |           0 | Normal       |     108 | Y                |       1.5 | Flat       |              1 |\n",
            "|  4 |    54 | M     | NAP             |         150 |           195 |           0 | Normal       |     122 | N                |       0   | Up         |              0 |\n"
          ]
        }
      ]
    }
  ]
}